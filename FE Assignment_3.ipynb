{
 "cells": [
  {
   "cell_type": "code",
   "execution_count": null,
   "id": "cbd65ee6-adcd-4151-b2dc-b6a78025b42c",
   "metadata": {},
   "outputs": [],
   "source": [
    "Q1. What is Min-Max scaling, and how is it used in data preprocessing? Provide an example to illustrate its application.\n",
    "Min-Max Scaling:\n",
    "Min-Max scaling, also known as normalization, is a technique used to scale and transform numerical features to a specific range, typically [0, 1]. It is calculated using the formula:\n",
    "X scaled = X−min(X)/max(X)−min(X)\n",
    " Application Example:\n",
    "Consider a dataset with a feature X representing the age of individuals. If the minimum age is 20, the maximum age is 60, and an individual's age is 30, the Min-Max scaled value would be:0.25\n",
    "\n",
    "\n",
    "\n",
    "Q2. What is the Unit Vector technique in feature scaling, and how does it differ from Min-Max scaling? Provide an example to illustrate its application.\n",
    "Unit Vector Technique:\n",
    "The Unit Vector technique scales the features to have a length of 1, treating the vector of feature values as a vector in Euclidean space. It is calculated using the formula:\n",
    "Difference from Min-Max Scaling:\n",
    "While Min-Max scaling scales features to a specific range, the Unit Vector technique scales features to have a length of 1, emphasizing the direction of the vector.\n",
    "\n",
    "\n",
    "Q3. What is PCA (Principal Component Analysis), and how is it used in dimensionality reduction? Provide an example to illustrate its application.\n",
    "PCA (Principal Component Analysis):\n",
    "PCA is a dimensionality reduction technique that transforms high-dimensional data into a lower-dimensional space while preserving the most important information. It identifies principal components, which are linear combinations of the original features.\n",
    "and the data would be transformed into a lower-dimensional space using these components.\n",
    "\n",
    "\n",
    "Q4. What is the relationship between PCA and Feature Extraction, and how can PCA be used for Feature Extraction? Provide an example to illustrate this concept.\n",
    "Relationship with Feature Extraction:\n",
    "PCA is a form of feature extraction that captures the most important information in the data by creating new features, called principal components, which are linear combinations of the original features.\n",
    "\n",
    "\n",
    "\n",
    "Q5. You are working on a project to build a recommendation system for a food delivery service. The dataset contains features such as price, rating, and delivery time. Explain how you would use Min-Max scaling to preprocess the data.\n",
    "Min-Max Scaling for Food Delivery Dataset:\n",
    "Identify the features to scale (e.g., price, rating, delivery time).\n",
    "Apply Min-Max scaling to each feature independently.\n",
    "The scaled features will now have values in the range [0, 1].\n",
    "The scaled data can be used as input for building the recommendation system.\n",
    "\n",
    "\n",
    "\n",
    "\n",
    "Q6. You are working on a project to build a model to predict stock prices. The dataset contains many features, such as company financial data and market trends. Explain how you would use PCA to reduce the dimensionality of the dataset.\n",
    "PCA for Stock Price Prediction:\n",
    "Select the relevant features related to company financial data and market trends.\n",
    "Apply PCA to the selected features to identify principal components.\n",
    "Choose a subset of principal components that capture a significant amount of variance in the data.\n",
    "The reduced-dimensional dataset can be used to train the stock price prediction model.\n",
    "\n",
    "\n",
    "\n",
    "Q7. For a dataset containing the following values: [1, 5, 10, 15, 20], perform Min-Max scaling to transform the values to a range of -1 to 1.\n",
    "After performing the calculations, the Min-Max scaled values would be in the range of -1 to 1.\n",
    "\n",
    "Q8. For a dataset containing the following features: [height, weight, age, gender, blood pressure], perform Feature Extraction using PCA. How many principal components would you choose to retain, and why?\n",
    "Apply PCA to the dataset to identify principal components.\n",
    "Examine the explained variance ratio for each principal component.\n",
    "Choose the number of principal components that collectively capture a significant amount of variance (e.g., 95%).\n",
    "Retain the selected principal components for dimensionality reduction."
   ]
  }
 ],
 "metadata": {
  "kernelspec": {
   "display_name": "Python 3 (ipykernel)",
   "language": "python",
   "name": "python3"
  },
  "language_info": {
   "codemirror_mode": {
    "name": "ipython",
    "version": 3
   },
   "file_extension": ".py",
   "mimetype": "text/x-python",
   "name": "python",
   "nbconvert_exporter": "python",
   "pygments_lexer": "ipython3",
   "version": "3.10.8"
  }
 },
 "nbformat": 4,
 "nbformat_minor": 5
}
